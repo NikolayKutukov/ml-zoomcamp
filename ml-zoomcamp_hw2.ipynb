{
 "cells": [
  {
   "cell_type": "code",
   "execution_count": 243,
   "id": "1bd7b07c",
   "metadata": {},
   "outputs": [],
   "source": [
    "import pandas as pd\n",
    "import numpy as np"
   ]
  },
  {
   "cell_type": "code",
   "execution_count": 244,
   "id": "9bb2e0d2",
   "metadata": {},
   "outputs": [
    {
     "name": "stdout",
     "output_type": "stream",
     "text": [
      "  % Total    % Received % Xferd  Average Speed   Time    Time     Time  Current\n",
      "                                 Dload  Upload   Total   Spent    Left  Speed\n",
      "100 1390k  100 1390k    0     0  3573k      0 --:--:-- --:--:-- --:--:-- 3582k\n"
     ]
    }
   ],
   "source": [
    "!curl -O https://raw.githubusercontent.com/alexeygrigorev/datasets/master/housing.csv"
   ]
  },
  {
   "cell_type": "code",
   "execution_count": 245,
   "id": "f631c4f1",
   "metadata": {},
   "outputs": [],
   "source": [
    "df = pd.read_csv('housing.csv')\n",
    "df.columns = data.columns.str.lower().str.replace(' ', '_')"
   ]
  },
  {
   "cell_type": "markdown",
   "id": "848dcf5a",
   "metadata": {},
   "source": [
    "### Question 1"
   ]
  },
  {
   "cell_type": "code",
   "execution_count": 246,
   "id": "66a5d89a",
   "metadata": {},
   "outputs": [
    {
     "data": {
      "text/plain": [
       "longitude               0\n",
       "latitude                0\n",
       "housing_median_age      0\n",
       "total_rooms             0\n",
       "total_bedrooms        207\n",
       "population              0\n",
       "households              0\n",
       "median_income           0\n",
       "median_house_value      0\n",
       "ocean_proximity         0\n",
       "dtype: int64"
      ]
     },
     "execution_count": 246,
     "metadata": {},
     "output_type": "execute_result"
    }
   ],
   "source": [
    "df.isnull().sum()"
   ]
  },
  {
   "cell_type": "markdown",
   "id": "9687f1b6",
   "metadata": {},
   "source": [
    "### Question 2"
   ]
  },
  {
   "cell_type": "code",
   "execution_count": 247,
   "id": "31f355ad",
   "metadata": {},
   "outputs": [
    {
     "data": {
      "text/plain": [
       "1166.0"
      ]
     },
     "execution_count": 247,
     "metadata": {},
     "output_type": "execute_result"
    }
   ],
   "source": [
    "np.median(df.population)"
   ]
  },
  {
   "cell_type": "markdown",
   "id": "472db9b8",
   "metadata": {},
   "source": [
    "### Question 3"
   ]
  },
  {
   "cell_type": "code",
   "execution_count": 248,
   "id": "26e4366f",
   "metadata": {},
   "outputs": [],
   "source": [
    "np.random.seed(42)\n",
    "n = len(df)\n",
    "idx = np.arange(n)\n",
    "np.random.shuffle(idx)\n",
    "n_val = int(0.2 * n)\n",
    "n_test = int(0.2 * n)\n",
    "n_train = n - n_val - n_test"
   ]
  },
  {
   "cell_type": "code",
   "execution_count": 249,
   "id": "c3831f6e",
   "metadata": {},
   "outputs": [],
   "source": [
    "df_train = df.iloc[idx[:n_train]]\n",
    "df_val = df.iloc[idx[n_train:n_train + n_val]]\n",
    "df_test = df.iloc[idx[n_train + n_val:]]"
   ]
  },
  {
   "cell_type": "code",
   "execution_count": 252,
   "id": "0a5034a1",
   "metadata": {},
   "outputs": [],
   "source": [
    "y_train = np.log1p(df_train.median_house_value.values)\n",
    "y_val = np.log1p(df_val.median_house_value.values)\n",
    "y_test = np.log1p(df_test.median_house_value.values)\n",
    "del df_train[\"median_house_value\"]\n",
    "del df_val[\"median_house_value\"]\n",
    "del df_test[\"median_house_value\"]"
   ]
  },
  {
   "cell_type": "markdown",
   "id": "6d185b1d",
   "metadata": {},
   "source": [
    "#### Functions "
   ]
  },
  {
   "cell_type": "code",
   "execution_count": 253,
   "id": "8ed5b05c",
   "metadata": {},
   "outputs": [],
   "source": [
    "def prepare_0(X):\n",
    "    X = X.copy()\n",
    "    X = X[X.columns[X.dtypes != \"object\"]]\n",
    "    X = X.fillna(0)\n",
    "    return X\n",
    "\n",
    "def prepare_mean(X):\n",
    "    X = X.copy()\n",
    "    X = X[X.columns[X.dtypes != \"object\"]]\n",
    "    for col in X.columns:\n",
    "        X['%s'%col] = X['%s'%col].fillna(np.mean(X['%s'%col]))\n",
    "    return X\n",
    "\n",
    "def train_regression(X, y, r):\n",
    "    X = X.copy()\n",
    "    X = np.column_stack([np.ones(X.shape[0]), X])\n",
    "    XTX = np.dot(X.T, X)\n",
    "    XTX += np.eye(XTX.shape[0]) * r\n",
    "    w = np.dot(np.dot(np.linalg.inv(XTX), X.T), y)\n",
    "    return w[0], w[1:]\n",
    "\n",
    "def RMSE(y_pred, y_tg):\n",
    "    return np.sqrt(sum((y_pred - y_tg)**2)/len(y_pred))"
   ]
  },
  {
   "cell_type": "markdown",
   "id": "2733cc15",
   "metadata": {},
   "source": [
    "#### Fill NA with zeros"
   ]
  },
  {
   "cell_type": "code",
   "execution_count": 254,
   "id": "17e4da71",
   "metadata": {
    "scrolled": true
   },
   "outputs": [
    {
     "data": {
      "text/plain": [
       "0.33"
      ]
     },
     "execution_count": 254,
     "metadata": {},
     "output_type": "execute_result"
    }
   ],
   "source": [
    "w0, w = train_regression(prepare_0(df_train), y_train, 0.01)\n",
    "y_pred = w0 + np.dot(prepare_0(df_val), w)\n",
    "score = RMSE(y_pred, y_val)\n",
    "round(score, 2)"
   ]
  },
  {
   "cell_type": "markdown",
   "id": "18cd060e",
   "metadata": {},
   "source": [
    "#### Fill NA with mean value"
   ]
  },
  {
   "cell_type": "code",
   "execution_count": 255,
   "id": "505d2ee0",
   "metadata": {},
   "outputs": [
    {
     "data": {
      "text/plain": [
       "0.33"
      ]
     },
     "execution_count": 255,
     "metadata": {},
     "output_type": "execute_result"
    }
   ],
   "source": [
    "w0, w = train_regression(prepare_mean(df_train), y_train, 0.01)\n",
    "y_pred = w0 + np.dot(prepare_mean(df_val), w)\n",
    "score = RMSE(y_pred, y_val)\n",
    "round(score, 2)"
   ]
  },
  {
   "cell_type": "markdown",
   "id": "d1abc835",
   "metadata": {},
   "source": [
    "### Question 4"
   ]
  },
  {
   "cell_type": "code",
   "execution_count": 259,
   "id": "80690be2",
   "metadata": {
    "scrolled": true
   },
   "outputs": [
    {
     "data": {
      "text/plain": [
       "[[0.32953, 0],\n",
       " [0.32953, 1e-06],\n",
       " [0.32953, 0.0001],\n",
       " [0.32953, 0.001],\n",
       " [0.32953, 0.01],\n",
       " [0.32969, 0.1],\n",
       " [0.33379, 1],\n",
       " [0.33925, 5],\n",
       " [0.34061, 10]]"
      ]
     },
     "execution_count": 259,
     "metadata": {},
     "output_type": "execute_result"
    }
   ],
   "source": [
    "r_values = [0, 0.000001, 0.0001, 0.001, 0.01, 0.1, 1, 5, 10]\n",
    "scores = []\n",
    "for r in r_values:\n",
    "    w0, w = train_regression(prepare_0(df_train), y_train, r)\n",
    "    y_pred = w0 + np.dot(prepare_0(df_val), w)\n",
    "    scores.append([round(RMSE(y_pred, y_val), 5), r])\n",
    "scores"
   ]
  },
  {
   "cell_type": "markdown",
   "id": "dcebfe96",
   "metadata": {},
   "source": [
    "### Question 5"
   ]
  },
  {
   "cell_type": "code",
   "execution_count": 260,
   "id": "3d7858c9",
   "metadata": {},
   "outputs": [],
   "source": [
    "seeds = [0, 1, 2, 3, 4, 5, 6, 7, 8, 9]\n",
    "scores = []\n",
    "n = len(df)\n",
    "idx = np.arange(n)\n",
    "np.random.shuffle(idx)\n",
    "n_val = int(0.2 * n)\n",
    "n_test = int(0.2 * n)\n",
    "n_train = n - n_val - n_test\n",
    "\n",
    "for seed in seeds:\n",
    "    idx = np.arange(n)\n",
    "    np.random.seed(seed)\n",
    "    np.random.shuffle(idx)\n",
    "\n",
    "    df_train = df.iloc[idx[:n_train]]\n",
    "    df_val = df.iloc[idx[n_train:n_train + n_val]]\n",
    "    df_test = df.iloc[idx[n_train + n_val:]]\n",
    "\n",
    "    y_train = np.log1p(df_train.median_house_value.values)\n",
    "    y_val = np.log1p(df_val.median_house_value.values)\n",
    "    y_test = np.log1p(df_test.median_house_value.values)\n",
    "    \n",
    "    del df_train[\"median_house_value\"]\n",
    "    del df_val[\"median_house_value\"]\n",
    "    del df_test[\"median_house_value\"]\n",
    "    \n",
    "    w0, w = train_regression(prepare_0(df_train), y_train, 0)\n",
    "    y_pred = w0 + np.dot(prepare_0(df_val), w)\n",
    "    score = RMSE(y_pred, y_val)\n",
    "    scores.append(score)\n",
    "    np.std(scores)"
   ]
  },
  {
   "cell_type": "markdown",
   "id": "dc65662c",
   "metadata": {},
   "source": [
    "### Question 6"
   ]
  },
  {
   "cell_type": "code",
   "execution_count": 261,
   "id": "ccd710f3",
   "metadata": {},
   "outputs": [
    {
     "data": {
      "text/plain": [
       "0.3453168914384796"
      ]
     },
     "execution_count": 261,
     "metadata": {},
     "output_type": "execute_result"
    }
   ],
   "source": [
    "idx = np.arange(n)\n",
    "np.random.seed(9)\n",
    "np.random.shuffle(idx)\n",
    "\n",
    "df_train = df.iloc[idx[:n_train]]\n",
    "df_val = df.iloc[idx[n_train:n_train + n_val]]\n",
    "df_test = df.iloc[idx[n_train + n_val:]]\n",
    "\n",
    "y_train = np.log1p(df_train.median_house_value.values)\n",
    "y_val = np.log1p(df_val.median_house_value.values)\n",
    "y_test = np.log1p(df_test.median_house_value.values)\n",
    "\n",
    "del df_train[\"median_house_value\"]\n",
    "del df_val[\"median_house_value\"]\n",
    "del df_test[\"median_house_value\"]\n",
    "\n",
    "df_full_train = pd.concat([df_train, df_val])\n",
    "y_full_train = np.concatenate([y_train, y_val])\n",
    "\n",
    "w0, w = train_regression(prepare_0(df_full_train), y_full_train, 0.001)\n",
    "y_pred = w0 + np.dot(prepare_0(df_test), w)\n",
    "RMSE(y_pred, y_test)"
   ]
  }
 ],
 "metadata": {
  "kernelspec": {
   "display_name": "Python 3 (ipykernel)",
   "language": "python",
   "name": "python3"
  },
  "language_info": {
   "codemirror_mode": {
    "name": "ipython",
    "version": 3
   },
   "file_extension": ".py",
   "mimetype": "text/x-python",
   "name": "python",
   "nbconvert_exporter": "python",
   "pygments_lexer": "ipython3",
   "version": "3.10.4"
  }
 },
 "nbformat": 4,
 "nbformat_minor": 5
}
